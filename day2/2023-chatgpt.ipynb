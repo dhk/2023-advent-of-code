{
  "nbformat": 4,
  "nbformat_minor": 0,
  "metadata": {
    "colab": {
      "provenance": [],
      "authorship_tag": "ABX9TyOunpKn+UX5KZx0nLSx+r0l",
      "include_colab_link": true
    },
    "kernelspec": {
      "name": "python3",
      "display_name": "Python 3"
    },
    "language_info": {
      "name": "python"
    }
  },
  "cells": [
    {
      "cell_type": "markdown",
      "metadata": {
        "id": "view-in-github",
        "colab_type": "text"
      },
      "source": [
        "<a href=\"https://colab.research.google.com/github/dhk/2023-advent-of-code/blob/main/day2/2023-chatgpt.ipynb\" target=\"_parent\"><img src=\"https://colab.research.google.com/assets/colab-badge.svg\" alt=\"Open In Colab\"/></a>"
      ]
    },
    {
      "cell_type": "code",
      "execution_count": 2,
      "metadata": {
        "colab": {
          "base_uri": "https://localhost:8080/"
        },
        "id": "A1FpHum5gFOq",
        "outputId": "156a7a5a-b920-4bce-82db-3890c044cdcb"
      },
      "outputs": [
        {
          "output_type": "execute_result",
          "data": {
            "text/plain": [
              "2449"
            ]
          },
          "metadata": {},
          "execution_count": 2
        }
      ],
      "source": [
        "import pandas as pd\n",
        "\n",
        "# Manually reading the file line-by-line to extract the game lines\n",
        "#file_path = '/mnt/data/2023-day2.csv'\n",
        "file_path = '2023-day2.csv' # edited for local running\n",
        "with open(file_path, 'r') as file:\n",
        "    raw_lines = file.readlines()\n",
        "\n",
        "# Filtering lines that start with \"Game\" to get the game data\n",
        "game_data_cleaned = [line.strip() for line in raw_lines if line.startswith(\"Game\")]\n",
        "\n",
        "# Function to parse the cleaned game data\n",
        "def parse_game_data_fixed(game_data):\n",
        "    games = []\n",
        "    for line in game_data:\n",
        "        # Extracting the game ID (e.g., \"Game 4\")\n",
        "        game_id_str, sets_str = line.split(\": \", 1)\n",
        "        game_id = int(game_id_str.replace(\"Game \", \"\").replace(\":\", \"\"))\n",
        "\n",
        "        # Splitting the sets of cubes based on semicolons\n",
        "        sets = sets_str.split(\"; \")\n",
        "        game_sets = []\n",
        "        for s in sets:\n",
        "            color_counts = {\"red\": 0, \"green\": 0, \"blue\": 0}\n",
        "            cubes = s.split(\", \")\n",
        "            for cube in cubes:\n",
        "                count, color = cube.split(\" \")\n",
        "                color_counts[color] = int(count)\n",
        "            game_sets.append(color_counts)\n",
        "        games.append((game_id, game_sets))\n",
        "    return games\n",
        "\n",
        "# Function to check if the game is possible given the limits of cubes\n",
        "def is_game_possible(game_sets, limits):\n",
        "    for s in game_sets:\n",
        "        if s[\"red\"] > limits[\"red\"] or s[\"green\"] > limits[\"green\"] or s[\"blue\"] > limits[\"blue\"]:\n",
        "            return False\n",
        "    return True\n",
        "\n",
        "# Function to find the sum of possible game IDs\n",
        "def find_possible_games_fixed(game_data):\n",
        "    games = parse_game_data_fixed(game_data)\n",
        "    limits = {\"red\": 12, \"green\": 13, \"blue\": 14}\n",
        "    possible_games_sum = 0\n",
        "    for game_id, game_sets in games:\n",
        "        if is_game_possible(game_sets, limits):\n",
        "            possible_games_sum += game_id\n",
        "    return possible_games_sum\n",
        "\n",
        "# Running the solution to calculate the sum of possible game IDs\n",
        "result = find_possible_games_fixed(game_data_cleaned)\n",
        "result\n"
      ]
    }
  ]
}